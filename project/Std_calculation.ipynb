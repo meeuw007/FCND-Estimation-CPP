{
 "cells": [
  {
   "cell_type": "code",
   "execution_count": 6,
   "metadata": {},
   "outputs": [],
   "source": [
    "import numpy as np\n",
    "gps = np.loadtxt('Graph1.txt',delimiter=',',dtype='Float64',skiprows=1)[:,1]\n",
    "\n",
    "\n",
    "\n",
    "\n"
   ]
  },
  {
   "cell_type": "code",
   "execution_count": 7,
   "metadata": {},
   "outputs": [
    {
     "name": "stdout",
     "output_type": "stream",
     "text": [
      "0.6957689986214529\n"
     ]
    }
   ],
   "source": [
    "count = 0\n",
    "total = 0\n",
    "for i in gps:\n",
    "    total = total + i\n",
    "    count = count + 1\n",
    "mean = total/count\n",
    "#print(mean)\n",
    "squared_subs=[]\n",
    "index_subs=0\n",
    "for i in x_positions:\n",
    "    squared_sub = (i - mean)**2\n",
    "    #print(squared_sub)\n",
    "    squared_subs = np.append (squared_subs, squared_sub )\n",
    "count2 = 0\n",
    "total2 = 0\n",
    "for i in squared_subs:\n",
    "    total2 = total2 + i\n",
    "    count2 = count2 + 1\n",
    "mean2 = total2/count2\n",
    "std = np.sqrt(mean2)\n",
    "print(std)\n",
    "\n",
    "    \n",
    "    \n"
   ]
  },
  {
   "cell_type": "code",
   "execution_count": 10,
   "metadata": {},
   "outputs": [],
   "source": [
    "import numpy as np\n",
    "accelero = np.loadtxt('Graph2.txt',delimiter=',',dtype='Float64',skiprows=1)[:,1]\n",
    "\n",
    "\n",
    "\n",
    "\n"
   ]
  },
  {
   "cell_type": "code",
   "execution_count": 11,
   "metadata": {},
   "outputs": [
    {
     "name": "stdout",
     "output_type": "stream",
     "text": [
      "0.5037454331606036\n"
     ]
    }
   ],
   "source": [
    "count = 0\n",
    "total = 0\n",
    "for i in accelero:\n",
    "    total = total + i\n",
    "    count = count + 1\n",
    "mean = total/count\n",
    "squared_subs=[]\n",
    "index_subs=0\n",
    "for i in gps:\n",
    "    squared_sub = (i - mean)**2\n",
    "    squared_subs = np.append (squared_subs, squared_sub )\n",
    "count2 = 0\n",
    "total2 = 0\n",
    "for i in squared_subs:\n",
    "    total2 = total2 + i\n",
    "    count2 = count2 + 1\n",
    "mean2 = total2/count2\n",
    "std = np.sqrt(mean2)\n",
    "print(std)\n"
   ]
  },
  {
   "cell_type": "code",
   "execution_count": null,
   "metadata": {},
   "outputs": [],
   "source": []
  },
  {
   "cell_type": "code",
   "execution_count": null,
   "metadata": {},
   "outputs": [],
   "source": []
  }
 ],
 "metadata": {
  "kernelspec": {
   "display_name": "Python 3",
   "language": "python",
   "name": "python3"
  },
  "language_info": {
   "codemirror_mode": {
    "name": "ipython",
    "version": 3
   },
   "file_extension": ".py",
   "mimetype": "text/x-python",
   "name": "python",
   "nbconvert_exporter": "python",
   "pygments_lexer": "ipython3",
   "version": "3.6.3"
  }
 },
 "nbformat": 4,
 "nbformat_minor": 2
}
